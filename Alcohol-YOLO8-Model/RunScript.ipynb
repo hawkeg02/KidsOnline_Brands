{
 "cells": [
  {
   "cell_type": "code",
   "execution_count": 4,
   "id": "ef19e958",
   "metadata": {},
   "outputs": [],
   "source": [
    "from ultralytics import YOLO"
   ]
  },
  {
   "cell_type": "code",
   "execution_count": 2,
   "id": "1fb48890-3564-4eb9-9009-3a1311fc977e",
   "metadata": {},
   "outputs": [],
   "source": [
    "model = YOLO('yolov8l.pt')"
   ]
  },
  {
   "cell_type": "code",
   "execution_count": null,
   "id": "d7cdbda7-26f3-4d14-98e0-2bd32bdc7383",
   "metadata": {
    "scrolled": true
   },
   "outputs": [],
   "source": [
    "results = model.train(data='Alcohol-Content-2-3/data.yaml', epochs = 100, imgsz=640)"
   ]
  },
  {
   "cell_type": "code",
   "execution_count": null,
   "id": "7b5fbf0d",
   "metadata": {},
   "outputs": [],
   "source": [
    "model = YOLO('runs/detect/ALCOHOL_100/weights/best.pt')"
   ]
  }
 ],
 "metadata": {
  "kernelspec": {
   "display_name": "detr_env",
   "language": "python",
   "name": "detr_env"
  },
  "language_info": {
   "codemirror_mode": {
    "name": "ipython",
    "version": 3
   },
   "file_extension": ".py",
   "mimetype": "text/x-python",
   "name": "python",
   "nbconvert_exporter": "python",
   "pygments_lexer": "ipython3",
   "version": "3.12.3"
  }
 },
 "nbformat": 4,
 "nbformat_minor": 5
}
