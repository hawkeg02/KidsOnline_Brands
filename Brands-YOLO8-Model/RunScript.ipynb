{
 "cells": [
  {
   "cell_type": "code",
   "execution_count": 1,
   "id": "ef19e958",
   "metadata": {},
   "outputs": [],
   "source": [
    "from ultralytics import YOLO"
   ]
  },
  {
   "cell_type": "code",
   "execution_count": 2,
   "id": "9fa6991f-216f-4882-88aa-47064b41b552",
   "metadata": {},
   "outputs": [],
   "source": [
    "model = YOLO('yolov8l.pt')"
   ]
  },
  {
   "cell_type": "code",
   "execution_count": null,
   "id": "d7cdbda7-26f3-4d14-98e0-2bd32bdc7383",
   "metadata": {},
   "outputs": [],
   "source": [
    "results = model.train(data='MediumModel2-3/data.yaml', epochs = 200, imgsz=640)"
   ]
  },
  {
   "cell_type": "code",
   "execution_count": 3,
   "id": "7b5fbf0d",
   "metadata": {},
   "outputs": [],
   "source": [
    "model = YOLO('runs/detect/train/weights/best.pt')"
   ]
  },
  {
   "cell_type": "code",
   "execution_count": null,
   "id": "b9250156-202f-41d0-ba4a-7e3c61bd46e5",
   "metadata": {},
   "outputs": [],
   "source": [
    "result = model('test.png')\n",
    "for r in result:\n",
    "    r.save()"
   ]
  }
 ],
 "metadata": {
  "kernelspec": {
   "display_name": "detr_env",
   "language": "python",
   "name": "detr_env"
  },
  "language_info": {
   "codemirror_mode": {
    "name": "ipython",
    "version": 3
   },
   "file_extension": ".py",
   "mimetype": "text/x-python",
   "name": "python",
   "nbconvert_exporter": "python",
   "pygments_lexer": "ipython3",
   "version": "3.12.3"
  }
 },
 "nbformat": 4,
 "nbformat_minor": 5
}
